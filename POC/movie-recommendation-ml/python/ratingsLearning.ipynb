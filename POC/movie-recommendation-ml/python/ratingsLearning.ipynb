{
 "cells": [
  {
   "cell_type": "code",
   "execution_count": 1,
   "metadata": {},
   "outputs": [],
   "source": [
    "import pandas as pd\n",
    "from surprise import Dataset\n",
    "from surprise import Reader\n",
    "from surprise import NMF\n",
    "with __import__('importnb').Notebook(): \n",
    "    import recommendationSender"
   ]
  },
  {
   "cell_type": "code",
   "execution_count": 2,
   "metadata": {},
   "outputs": [],
   "source": [
    "def trainingRatings(movies, users, ratings):\n",
    "    ratings_dict = {\n",
    "    \"movies\": movies,\n",
    "    \"users\": users,\n",
    "    \"ratings\": ratings\n",
    "    }\n",
    "    df = pd.DataFrame(ratings_dict)\n",
    "    reader = Reader(rating_scale=(1, 5))\n",
    "    data = Dataset.load_from_df(df[[\"users\", \"movies\", \"ratings\"]], reader)\n",
    "    trainingSet = data.build_full_trainset()\n",
    "    algo = NMF(n_factors=100, n_epochs=100, reg_pu=0.01)\n",
    "    algo.fit(trainingSet)\n",
    "    recommendMoviesForUsers(movies, users, algo)"
   ]
  },
  {
   "cell_type": "code",
   "execution_count": 3,
   "metadata": {},
   "outputs": [],
   "source": [
    "def recommendMoviesForUsers(allMovies, allUsers, algo):\n",
    "    movies = []\n",
    "    allMovies = sorted(allMovies)\n",
    "    lastMovie = \"\"\n",
    "    for movie in allMovies:\n",
    "        if(lastMovie != movie):\n",
    "            lastMovie = movie\n",
    "            movies.append(movie)\n",
    "    users = []\n",
    "    allUsers = sorted(allUsers)\n",
    "    lastUser = \"\"\n",
    "    for user in allUsers:\n",
    "        if(lastUser != user):\n",
    "            lastUser = user\n",
    "            users.append(user)\n",
    "    ratingsMovie = []\n",
    "    ratingsUser = []\n",
    "    ratings = []\n",
    "    for user in users:\n",
    "        for movie in movies:\n",
    "            ratingsMovie.append(movie)\n",
    "            ratingsUser.append(user)\n",
    "            ratings.append(algo.predict(user, movie).est)\n",
    "    recommendationSender.sendRecommendations(ratingsMovie, ratingsUser, ratings)"
   ]
  },
  {
   "cell_type": "code",
   "execution_count": null,
   "metadata": {},
   "outputs": [],
   "source": []
  },
  {
   "cell_type": "code",
   "execution_count": null,
   "metadata": {},
   "outputs": [],
   "source": []
  }
 ],
 "metadata": {
  "kernelspec": {
   "display_name": "Python 3",
   "language": "python",
   "name": "python3"
  },
  "language_info": {
   "codemirror_mode": {
    "name": "ipython",
    "version": 3
   },
   "file_extension": ".py",
   "mimetype": "text/x-python",
   "name": "python",
   "nbconvert_exporter": "python",
   "pygments_lexer": "ipython3",
   "version": "3.7.3"
  }
 },
 "nbformat": 4,
 "nbformat_minor": 4
}
