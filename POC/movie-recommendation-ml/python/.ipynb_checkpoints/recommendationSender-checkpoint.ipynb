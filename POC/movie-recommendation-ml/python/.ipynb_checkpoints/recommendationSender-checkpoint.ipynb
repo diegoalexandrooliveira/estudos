{
 "cells": [
  {
   "cell_type": "code",
   "execution_count": 3,
   "metadata": {},
   "outputs": [],
   "source": [
    "import pika\n",
    "import json\n",
    "\n",
    "def sendRecommendations(movies, users, ratings):\n",
    "    payload = []\n",
    "    length = len(movies)\n",
    "    for i in range(length):\n",
    "        payload.append({\n",
    "            \"imdb_id\": movies[i],\n",
    "            \"user_id\": users[i],\n",
    "            \"rating\": ratings[i]\n",
    "        })\n",
    "    jsonPayload = json.dumps(payload)\n",
    "    print(jsonPayload)\n",
    "    connection = pika.BlockingConnection(pika.ConnectionParameters(host='localhost'))\n",
    "    channel = connection.channel()\n",
    "    channel.queue_declare(queue='recommendations')\n",
    "    channel.basic_publish('','',jsonPayload)\n",
    "    connection.close()"
   ]
  },
  {
   "cell_type": "code",
   "execution_count": 4,
   "metadata": {},
   "outputs": [
    {
     "name": "stdout",
     "output_type": "stream",
     "text": [
      "[1]\n",
      "['234']\n",
      "[5]\n"
     ]
    }
   ],
   "source": [
    "movies = ['234']\n",
    "users = [1]\n",
    "ratings = [5]\n",
    "sendRecommendations(movies, users, ratings)"
   ]
  },
  {
   "cell_type": "code",
   "execution_count": null,
   "metadata": {},
   "outputs": [],
   "source": []
  }
 ],
 "metadata": {
  "kernelspec": {
   "display_name": "Python 3",
   "language": "python",
   "name": "python3"
  },
  "language_info": {
   "codemirror_mode": {
    "name": "ipython",
    "version": 3
   },
   "file_extension": ".py",
   "mimetype": "text/x-python",
   "name": "python",
   "nbconvert_exporter": "python",
   "pygments_lexer": "ipython3",
   "version": "3.7.3"
  }
 },
 "nbformat": 4,
 "nbformat_minor": 4
}
