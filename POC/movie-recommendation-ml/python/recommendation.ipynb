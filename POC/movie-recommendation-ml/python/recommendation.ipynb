{
 "cells": [
  {
   "cell_type": "code",
   "execution_count": 271,
   "metadata": {},
   "outputs": [],
   "source": [
    "import pandas as pd\n",
    "from surprise import Dataset\n",
    "from surprise import Reader\n",
    "from surprise import NMF"
   ]
  },
  {
   "cell_type": "code",
   "execution_count": 345,
   "metadata": {},
   "outputs": [],
   "source": [
    "ratings_dict = {\n",
    "    \"item\": [\"tt0120815\",\"tt2119532\",\"tt0120815\"],\n",
    "    \"user\": [1,1,2],\n",
    "    \"rating\": [1,5,1]\n",
    "}"
   ]
  },
  {
   "cell_type": "code",
   "execution_count": 346,
   "metadata": {},
   "outputs": [],
   "source": [
    "df = pd.DataFrame(ratings_dict)\n",
    "reader = Reader(rating_scale=(1, 5))"
   ]
  },
  {
   "cell_type": "code",
   "execution_count": 347,
   "metadata": {},
   "outputs": [],
   "source": [
    "data = Dataset.load_from_df(df[[\"user\", \"item\", \"rating\"]], reader)"
   ]
  },
  {
   "cell_type": "code",
   "execution_count": 348,
   "metadata": {},
   "outputs": [],
   "source": [
    "trainingSet = data.build_full_trainset()"
   ]
  },
  {
   "cell_type": "code",
   "execution_count": 262,
   "metadata": {},
   "outputs": [],
   "source": [
    "movies = {\n",
    "    \"movie\":[\"tt0903624\",\"tt0120737\",\"tt0241527\",\"tt0325980\",\"tt0499549\",\"tt0360717\",\"tt0363771\",\"tt0120616\",\"tt0076759\",\"tt2582846\",\"tt2674426\",\"tt0332280\",\"tt0120338\",\"tt0989757\",\"tt1517451\",\"tt1045658\",\"tt0281358\",\"tt1563738\",\"tt0120815\",\"tt5013056\",\"tt2713180\",\"tt0361748\",\"tt0108052\",\"tt0213149\",\"tt0253474\",\"tt0215750\",\"tt2179136\",\"tt2119532\",\"tt2911666\",\"tt0232500\",\"tt0455944\",\"tt1392190\",\"tt0468569\",\"tt1074638\",\"tt0440963\"],\n",
    "    \"title\": [\"The Hobbit: An Unexpected Journey\",\"The Lord of the Rings: The Fellowship of the Ring\",\"Harry Potter and the Sorcerer's Stone\",\"Pirates of the Caribbean: The Curse of the Black Pearl\",\"Avatar\",\"King Kong\",\"The Chronicles of Narnia: The Lion, the Witch and the Wardrobe\",\"The Mummy\",\"Star Wars: Episode IV - A New Hope\",\"The Fault in Our Stars\",\"Me Before You\",\"The Notebook\",\"Titanic\",\"Dear John\",\"A Star Is Born\",\"Silver Linings Playbook\",\"A Walk to Remember\",\"One Day\",\"Saving Private Ryan\",\"Dunkirk\",\"Fury\",\"Inglourious Basterds\",\"Schindler's List\",\"Pearl Harbor\",\"The Pianist\",\"Enemy at the Gates\",\"American Sniper\",\"Hacksaw Ridge\",\"John Wick\",\"The Fast and the Furious\",\"The Equalizer\",\"Mad Max: Fury Road\",\"The Dark Knight\",\"Skyfall\",\"The Bourne Ultimatum\"]\n",
    "}"
   ]
  },
  {
   "cell_type": "code",
   "execution_count": 329,
   "metadata": {},
   "outputs": [],
   "source": [
    "movies = {\n",
    "    \"movie\":[\"tt0120815\",\"tt2119532\"],\n",
    "    \"title\": [\"Saving Private Ryan\",\"American Sniper\"]\n",
    "}"
   ]
  },
  {
   "cell_type": "code",
   "execution_count": 349,
   "metadata": {},
   "outputs": [],
   "source": [
    "algo = NMF(n_factors=100, n_epochs=100, reg_pu=0.01)"
   ]
  },
  {
   "cell_type": "code",
   "execution_count": 350,
   "metadata": {},
   "outputs": [
    {
     "data": {
      "text/plain": [
       "<surprise.prediction_algorithms.matrix_factorization.NMF at 0x7f9458f36550>"
      ]
     },
     "execution_count": 350,
     "metadata": {},
     "output_type": "execute_result"
    }
   ],
   "source": [
    "algo.fit(trainingSet)"
   ]
  },
  {
   "cell_type": "code",
   "execution_count": 351,
   "metadata": {},
   "outputs": [
    {
     "name": "stdout",
     "output_type": "stream",
     "text": [
      "Predict for user 2\n",
      "American Sniper: 3.202374864086091\n",
      "Saving Private Ryan: 1.2652261652421204\n"
     ]
    }
   ],
   "source": [
    "user = 2\n",
    "predictions = {}\n",
    "print(\"Predict for user \" + str(user))\n",
    "for i in range(len(movies[\"movie\"])):\n",
    "    prediction = algo.predict(user, movies[\"movie\"][i])\n",
    "    predictions[prediction.est] = movies[\"title\"][i]\n",
    "for i in sorted(predictions, reverse=True):\n",
    "    print(predictions[i] + \": \" + str(i))"
   ]
  },
  {
   "cell_type": "code",
   "execution_count": null,
   "metadata": {},
   "outputs": [],
   "source": []
  }
 ],
 "metadata": {
  "kernelspec": {
   "display_name": "Python 3",
   "language": "python",
   "name": "python3"
  },
  "language_info": {
   "codemirror_mode": {
    "name": "ipython",
    "version": 3
   },
   "file_extension": ".py",
   "mimetype": "text/x-python",
   "name": "python",
   "nbconvert_exporter": "python",
   "pygments_lexer": "ipython3",
   "version": "3.7.3"
  }
 },
 "nbformat": 4,
 "nbformat_minor": 4
}
