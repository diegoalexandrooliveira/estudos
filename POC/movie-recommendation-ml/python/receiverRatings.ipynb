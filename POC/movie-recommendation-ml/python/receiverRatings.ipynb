{
 "cells": [
  {
   "cell_type": "code",
   "execution_count": null,
   "metadata": {},
   "outputs": [],
   "source": [
    "import pika"
   ]
  },
  {
   "cell_type": "code",
   "execution_count": null,
   "metadata": {},
   "outputs": [],
   "source": [
    "def callback(ch, method, properties, body):\n",
    "    print(body)"
   ]
  },
  {
   "cell_type": "code",
   "execution_count": 7,
   "metadata": {},
   "outputs": [
    {
     "name": "stdout",
     "output_type": "stream",
     "text": [
      "b'[{\"id\":175,\"movieImdbId\":\"tt0440963\",\"userId\":1,\"rating\":5},{\"id\":176,\"movieImdbId\":\"tt1074638\",\"userId\":1,\"rating\":2},{\"id\":177,\"movieImdbId\":\"tt0468569\",\"userId\":1,\"rating\":5},{\"id\":178,\"movieImdbId\":\"tt0903624\",\"userId\":1,\"rating\":5}]'\n",
      "b'[{\"id\":175,\"movieImdbId\":\"tt0440963\",\"userId\":1,\"rating\":5},{\"id\":176,\"movieImdbId\":\"tt1074638\",\"userId\":1,\"rating\":2},{\"id\":177,\"movieImdbId\":\"tt0468569\",\"userId\":1,\"rating\":5},{\"id\":178,\"movieImdbId\":\"tt0903624\",\"userId\":1,\"rating\":5}]'\n",
      "b'[{\"id\":175,\"movieImdbId\":\"tt0440963\",\"userId\":1,\"rating\":5},{\"id\":176,\"movieImdbId\":\"tt1074638\",\"userId\":1,\"rating\":2},{\"id\":177,\"movieImdbId\":\"tt0468569\",\"userId\":1,\"rating\":5},{\"id\":178,\"movieImdbId\":\"tt0903624\",\"userId\":1,\"rating\":5}]'\n",
      "b'[{\"id\":175,\"movieImdbId\":\"tt0440963\",\"userId\":1,\"rating\":5},{\"id\":176,\"movieImdbId\":\"tt1074638\",\"userId\":1,\"rating\":2},{\"id\":177,\"movieImdbId\":\"tt0468569\",\"userId\":1,\"rating\":5},{\"id\":178,\"movieImdbId\":\"tt0903624\",\"userId\":1,\"rating\":5}]'\n",
      "b'[{\"id\":175,\"movieImdbId\":\"tt0440963\",\"userId\":1,\"rating\":5},{\"id\":176,\"movieImdbId\":\"tt1074638\",\"userId\":1,\"rating\":2},{\"id\":177,\"movieImdbId\":\"tt0468569\",\"userId\":1,\"rating\":5},{\"id\":178,\"movieImdbId\":\"tt0903624\",\"userId\":1,\"rating\":5}]'\n",
      "b'[{\"id\":175,\"movieImdbId\":\"tt0440963\",\"userId\":1,\"rating\":5},{\"id\":176,\"movieImdbId\":\"tt1074638\",\"userId\":1,\"rating\":2},{\"id\":177,\"movieImdbId\":\"tt0468569\",\"userId\":1,\"rating\":5},{\"id\":178,\"movieImdbId\":\"tt0903624\",\"userId\":1,\"rating\":5}]'\n",
      "b'[{\"id\":175,\"movieImdbId\":\"tt0440963\",\"userId\":1,\"rating\":5},{\"id\":176,\"movieImdbId\":\"tt1074638\",\"userId\":1,\"rating\":2},{\"id\":177,\"movieImdbId\":\"tt0468569\",\"userId\":1,\"rating\":5},{\"id\":178,\"movieImdbId\":\"tt0903624\",\"userId\":1,\"rating\":5}]'\n",
      "b'[{\"id\":175,\"movieImdbId\":\"tt0440963\",\"userId\":1,\"rating\":5},{\"id\":176,\"movieImdbId\":\"tt1074638\",\"userId\":1,\"rating\":2},{\"id\":177,\"movieImdbId\":\"tt0468569\",\"userId\":1,\"rating\":5},{\"id\":178,\"movieImdbId\":\"tt0903624\",\"userId\":1,\"rating\":5}]'\n"
     ]
    },
    {
     "ename": "KeyboardInterrupt",
     "evalue": "",
     "output_type": "error",
     "traceback": [
      "\u001b[0;31m---------------------------------------------------------------------------\u001b[0m",
      "\u001b[0;31mKeyboardInterrupt\u001b[0m                         Traceback (most recent call last)",
      "\u001b[0;32m<ipython-input-7-13e2b979b281>\u001b[0m in \u001b[0;36m<module>\u001b[0;34m\u001b[0m\n\u001b[1;32m      9\u001b[0m                       \u001b[0mauto_ack\u001b[0m\u001b[0;34m=\u001b[0m\u001b[0;32mTrue\u001b[0m\u001b[0;34m,\u001b[0m\u001b[0;34m\u001b[0m\u001b[0;34m\u001b[0m\u001b[0m\n\u001b[1;32m     10\u001b[0m                       on_message_callback=callback)\n\u001b[0;32m---> 11\u001b[0;31m \u001b[0mchannel\u001b[0m\u001b[0;34m.\u001b[0m\u001b[0mstart_consuming\u001b[0m\u001b[0;34m(\u001b[0m\u001b[0;34m)\u001b[0m\u001b[0;34m\u001b[0m\u001b[0;34m\u001b[0m\u001b[0m\n\u001b[0m",
      "\u001b[0;32m~/anaconda3/lib/python3.7/site-packages/pika/adapters/blocking_connection.py\u001b[0m in \u001b[0;36mstart_consuming\u001b[0;34m(self)\u001b[0m\n\u001b[1;32m   1864\u001b[0m         \u001b[0;32mwhile\u001b[0m \u001b[0mself\u001b[0m\u001b[0;34m.\u001b[0m\u001b[0m_consumer_infos\u001b[0m\u001b[0;34m:\u001b[0m\u001b[0;34m\u001b[0m\u001b[0;34m\u001b[0m\u001b[0m\n\u001b[1;32m   1865\u001b[0m             \u001b[0;31m# This will raise ChannelClosed if channel is closed by broker\u001b[0m\u001b[0;34m\u001b[0m\u001b[0;34m\u001b[0m\u001b[0;34m\u001b[0m\u001b[0m\n\u001b[0;32m-> 1866\u001b[0;31m             \u001b[0mself\u001b[0m\u001b[0;34m.\u001b[0m\u001b[0m_process_data_events\u001b[0m\u001b[0;34m(\u001b[0m\u001b[0mtime_limit\u001b[0m\u001b[0;34m=\u001b[0m\u001b[0;32mNone\u001b[0m\u001b[0;34m)\u001b[0m\u001b[0;34m\u001b[0m\u001b[0;34m\u001b[0m\u001b[0m\n\u001b[0m\u001b[1;32m   1867\u001b[0m \u001b[0;34m\u001b[0m\u001b[0m\n\u001b[1;32m   1868\u001b[0m     \u001b[0;32mdef\u001b[0m \u001b[0mstop_consuming\u001b[0m\u001b[0;34m(\u001b[0m\u001b[0mself\u001b[0m\u001b[0;34m,\u001b[0m \u001b[0mconsumer_tag\u001b[0m\u001b[0;34m=\u001b[0m\u001b[0;32mNone\u001b[0m\u001b[0;34m)\u001b[0m\u001b[0;34m:\u001b[0m\u001b[0;34m\u001b[0m\u001b[0;34m\u001b[0m\u001b[0m\n",
      "\u001b[0;32m~/anaconda3/lib/python3.7/site-packages/pika/adapters/blocking_connection.py\u001b[0m in \u001b[0;36m_process_data_events\u001b[0;34m(self, time_limit)\u001b[0m\n\u001b[1;32m   2025\u001b[0m \u001b[0;34m\u001b[0m\u001b[0m\n\u001b[1;32m   2026\u001b[0m         \"\"\"\n\u001b[0;32m-> 2027\u001b[0;31m         \u001b[0mself\u001b[0m\u001b[0;34m.\u001b[0m\u001b[0mconnection\u001b[0m\u001b[0;34m.\u001b[0m\u001b[0mprocess_data_events\u001b[0m\u001b[0;34m(\u001b[0m\u001b[0mtime_limit\u001b[0m\u001b[0;34m=\u001b[0m\u001b[0mtime_limit\u001b[0m\u001b[0;34m)\u001b[0m\u001b[0;34m\u001b[0m\u001b[0;34m\u001b[0m\u001b[0m\n\u001b[0m\u001b[1;32m   2028\u001b[0m         if self.is_closed and isinstance(self._closing_reason,\n\u001b[1;32m   2029\u001b[0m                                          exceptions.ChannelClosedByBroker):\n",
      "\u001b[0;32m~/anaconda3/lib/python3.7/site-packages/pika/adapters/blocking_connection.py\u001b[0m in \u001b[0;36mprocess_data_events\u001b[0;34m(self, time_limit)\u001b[0m\n\u001b[1;32m    823\u001b[0m                                               self._ready_events))\n\u001b[1;32m    824\u001b[0m             \u001b[0;32mif\u001b[0m \u001b[0mtime_limit\u001b[0m \u001b[0;32mis\u001b[0m \u001b[0;32mNone\u001b[0m\u001b[0;34m:\u001b[0m\u001b[0;34m\u001b[0m\u001b[0;34m\u001b[0m\u001b[0m\n\u001b[0;32m--> 825\u001b[0;31m                 \u001b[0mself\u001b[0m\u001b[0;34m.\u001b[0m\u001b[0m_flush_output\u001b[0m\u001b[0;34m(\u001b[0m\u001b[0mcommon_terminator\u001b[0m\u001b[0;34m)\u001b[0m\u001b[0;34m\u001b[0m\u001b[0;34m\u001b[0m\u001b[0m\n\u001b[0m\u001b[1;32m    826\u001b[0m             \u001b[0;32melse\u001b[0m\u001b[0;34m:\u001b[0m\u001b[0;34m\u001b[0m\u001b[0;34m\u001b[0m\u001b[0m\n\u001b[1;32m    827\u001b[0m                 \u001b[0;32mwith\u001b[0m \u001b[0m_IoloopTimerContext\u001b[0m\u001b[0;34m(\u001b[0m\u001b[0mtime_limit\u001b[0m\u001b[0;34m,\u001b[0m \u001b[0mself\u001b[0m\u001b[0;34m.\u001b[0m\u001b[0m_impl\u001b[0m\u001b[0;34m)\u001b[0m \u001b[0;32mas\u001b[0m \u001b[0mtimer\u001b[0m\u001b[0;34m:\u001b[0m\u001b[0;34m\u001b[0m\u001b[0;34m\u001b[0m\u001b[0m\n",
      "\u001b[0;32m~/anaconda3/lib/python3.7/site-packages/pika/adapters/blocking_connection.py\u001b[0m in \u001b[0;36m_flush_output\u001b[0;34m(self, *waiters)\u001b[0m\n\u001b[1;32m    511\u001b[0m         \u001b[0;31m# Process I/O until our completion condition is satisfied\u001b[0m\u001b[0;34m\u001b[0m\u001b[0;34m\u001b[0m\u001b[0;34m\u001b[0m\u001b[0m\n\u001b[1;32m    512\u001b[0m         \u001b[0;32mwhile\u001b[0m \u001b[0;32mnot\u001b[0m \u001b[0mis_done\u001b[0m\u001b[0;34m(\u001b[0m\u001b[0;34m)\u001b[0m\u001b[0;34m:\u001b[0m\u001b[0;34m\u001b[0m\u001b[0;34m\u001b[0m\u001b[0m\n\u001b[0;32m--> 513\u001b[0;31m             \u001b[0mself\u001b[0m\u001b[0;34m.\u001b[0m\u001b[0m_impl\u001b[0m\u001b[0;34m.\u001b[0m\u001b[0mioloop\u001b[0m\u001b[0;34m.\u001b[0m\u001b[0mpoll\u001b[0m\u001b[0;34m(\u001b[0m\u001b[0;34m)\u001b[0m\u001b[0;34m\u001b[0m\u001b[0;34m\u001b[0m\u001b[0m\n\u001b[0m\u001b[1;32m    514\u001b[0m             \u001b[0mself\u001b[0m\u001b[0;34m.\u001b[0m\u001b[0m_impl\u001b[0m\u001b[0;34m.\u001b[0m\u001b[0mioloop\u001b[0m\u001b[0;34m.\u001b[0m\u001b[0mprocess_timeouts\u001b[0m\u001b[0;34m(\u001b[0m\u001b[0;34m)\u001b[0m\u001b[0;34m\u001b[0m\u001b[0;34m\u001b[0m\u001b[0m\n\u001b[1;32m    515\u001b[0m \u001b[0;34m\u001b[0m\u001b[0m\n",
      "\u001b[0;32m~/anaconda3/lib/python3.7/site-packages/pika/adapters/select_connection.py\u001b[0m in \u001b[0;36mpoll\u001b[0;34m(self)\u001b[0m\n\u001b[1;32m    574\u001b[0m \u001b[0;34m\u001b[0m\u001b[0m\n\u001b[1;32m    575\u001b[0m         \"\"\"\n\u001b[0;32m--> 576\u001b[0;31m         \u001b[0mself\u001b[0m\u001b[0;34m.\u001b[0m\u001b[0m_poller\u001b[0m\u001b[0;34m.\u001b[0m\u001b[0mpoll\u001b[0m\u001b[0;34m(\u001b[0m\u001b[0;34m)\u001b[0m\u001b[0;34m\u001b[0m\u001b[0;34m\u001b[0m\u001b[0m\n\u001b[0m\u001b[1;32m    577\u001b[0m \u001b[0;34m\u001b[0m\u001b[0m\n\u001b[1;32m    578\u001b[0m \u001b[0;34m\u001b[0m\u001b[0m\n",
      "\u001b[0;32m~/anaconda3/lib/python3.7/site-packages/pika/adapters/select_connection.py\u001b[0m in \u001b[0;36mpoll\u001b[0;34m(self)\u001b[0m\n\u001b[1;32m   1179\u001b[0m         \u001b[0;32mwhile\u001b[0m \u001b[0;32mTrue\u001b[0m\u001b[0;34m:\u001b[0m\u001b[0;34m\u001b[0m\u001b[0;34m\u001b[0m\u001b[0m\n\u001b[1;32m   1180\u001b[0m             \u001b[0;32mtry\u001b[0m\u001b[0;34m:\u001b[0m\u001b[0;34m\u001b[0m\u001b[0;34m\u001b[0m\u001b[0m\n\u001b[0;32m-> 1181\u001b[0;31m                 \u001b[0mevents\u001b[0m \u001b[0;34m=\u001b[0m \u001b[0mself\u001b[0m\u001b[0;34m.\u001b[0m\u001b[0m_poll\u001b[0m\u001b[0;34m.\u001b[0m\u001b[0mpoll\u001b[0m\u001b[0;34m(\u001b[0m\u001b[0mself\u001b[0m\u001b[0;34m.\u001b[0m\u001b[0m_get_max_wait\u001b[0m\u001b[0;34m(\u001b[0m\u001b[0;34m)\u001b[0m\u001b[0;34m)\u001b[0m\u001b[0;34m\u001b[0m\u001b[0;34m\u001b[0m\u001b[0m\n\u001b[0m\u001b[1;32m   1182\u001b[0m                 \u001b[0;32mbreak\u001b[0m\u001b[0;34m\u001b[0m\u001b[0;34m\u001b[0m\u001b[0m\n\u001b[1;32m   1183\u001b[0m             \u001b[0;32mexcept\u001b[0m \u001b[0m_SELECT_ERRORS\u001b[0m \u001b[0;32mas\u001b[0m \u001b[0merror\u001b[0m\u001b[0;34m:\u001b[0m\u001b[0;34m\u001b[0m\u001b[0;34m\u001b[0m\u001b[0m\n",
      "\u001b[0;31mKeyboardInterrupt\u001b[0m: "
     ]
    }
   ],
   "source": [
    "connection = pika.BlockingConnection(pika.ConnectionParameters(host='localhost'))\n",
    "channel = connection.channel()\n",
    "channel.queue_declare(queue='ratingsForTraining')\n",
    "#body = \"RabbitMQ\"\n",
    "#channel.basic_publish(exchange='', routing_key='hello', body=body)\n",
    "#print(\" [x] Sent \" + body)\n",
    "#connection.close()\n",
    "channel.basic_consume(queue='ratingsForTraining',\n",
    "                      auto_ack=True,\n",
    "                      on_message_callback=callback)\n",
    "channel.start_consuming()"
   ]
  }
 ],
 "metadata": {
  "kernelspec": {
   "display_name": "Python 3",
   "language": "python",
   "name": "python3"
  },
  "language_info": {
   "codemirror_mode": {
    "name": "ipython",
    "version": 3
   },
   "file_extension": ".py",
   "mimetype": "text/x-python",
   "name": "python",
   "nbconvert_exporter": "python",
   "pygments_lexer": "ipython3",
   "version": "3.7.3"
  }
 },
 "nbformat": 4,
 "nbformat_minor": 4
}
