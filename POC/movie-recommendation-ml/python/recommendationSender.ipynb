{
 "cells": [
  {
   "cell_type": "code",
   "execution_count": 5,
   "metadata": {},
   "outputs": [],
   "source": [
    "import pika\n",
    "import json\n",
    "\n",
    "def sendRecommendations(movies, users, ratings):\n",
    "    payload = []\n",
    "    length = len(movies)\n",
    "    for i in range(length):\n",
    "        payload.append({\n",
    "            \"imdb_id\": movies[i],\n",
    "            \"user_id\": users[i],\n",
    "            \"rating\": ratings[i]\n",
    "        })\n",
    "    jsonPayload = json.dumps(payload)\n",
    "    print(jsonPayload)\n",
    "    connection = pika.BlockingConnection(pika.ConnectionParameters(host='localhost'))\n",
    "    channel = connection.channel()\n",
    "    channel.queue_declare(queue='recommendations')\n",
    "    channel.basic_publish('','',jsonPayload)\n",
    "    connection.close()"
   ]
  },
  {
   "cell_type": "code",
   "execution_count": 143,
   "metadata": {},
   "outputs": [],
   "source": [
    "    connection = pika.BlockingConnection(pika.ConnectionParameters(host='localhost'))"
   ]
  },
  {
   "cell_type": "code",
   "execution_count": 144,
   "metadata": {},
   "outputs": [
    {
     "data": {
      "text/plain": [
       "<METHOD(['channel_number=1', 'frame_type=1', 'method=<Exchange.DeclareOk>'])>"
      ]
     },
     "execution_count": 144,
     "metadata": {},
     "output_type": "execute_result"
    }
   ],
   "source": [
    "    channel = connection.channel()\n",
    "    channel.exchange_declare('direct_logs','direct')"
   ]
  },
  {
   "cell_type": "code",
   "execution_count": 145,
   "metadata": {},
   "outputs": [
    {
     "data": {
      "text/plain": [
       "<METHOD(['channel_number=1', 'frame_type=1', \"method=<Queue.DeclareOk(['consumer_count=0', 'message_count=0', 'queue=recommendations123'])>\"])>"
      ]
     },
     "execution_count": 145,
     "metadata": {},
     "output_type": "execute_result"
    }
   ],
   "source": [
    "    channel.queue_declare(queue='recommendations123')"
   ]
  },
  {
   "cell_type": "code",
   "execution_count": 146,
   "metadata": {},
   "outputs": [
    {
     "data": {
      "text/plain": [
       "<METHOD(['channel_number=1', 'frame_type=1', 'method=<Queue.BindOk>'])>"
      ]
     },
     "execution_count": 146,
     "metadata": {},
     "output_type": "execute_result"
    }
   ],
   "source": [
    "    channel.queue_bind(exchange='direct_logs',\n",
    "                       queue='recommendations123',\n",
    "                       routing_key='')"
   ]
  },
  {
   "cell_type": "code",
   "execution_count": 160,
   "metadata": {},
   "outputs": [],
   "source": [
    "    channel.basic_publish(exchange='direct_logs', routing_key='',body='[{\"imdb_id\": \"234\", \"user_id\": 1, \"rating\": 5}]')"
   ]
  },
  {
   "cell_type": "code",
   "execution_count": 140,
   "metadata": {},
   "outputs": [],
   "source": [
    "    connection.close()"
   ]
  },
  {
   "cell_type": "code",
   "execution_count": 6,
   "metadata": {},
   "outputs": [
    {
     "name": "stdout",
     "output_type": "stream",
     "text": [
      "[{\"imdb_id\": \"234\", \"user_id\": 1, \"rating\": 5}]\n"
     ]
    }
   ],
   "source": [
    "movies = ['234']\n",
    "users = [1]\n",
    "ratings = [5]\n",
    "sendRecommendations(movies, users, ratings)"
   ]
  },
  {
   "cell_type": "code",
   "execution_count": null,
   "metadata": {},
   "outputs": [],
   "source": []
  }
 ],
 "metadata": {
  "kernelspec": {
   "display_name": "Python 3",
   "language": "python",
   "name": "python3"
  },
  "language_info": {
   "codemirror_mode": {
    "name": "ipython",
    "version": 3
   },
   "file_extension": ".py",
   "mimetype": "text/x-python",
   "name": "python",
   "nbconvert_exporter": "python",
   "pygments_lexer": "ipython3",
   "version": "3.7.3"
  }
 },
 "nbformat": 4,
 "nbformat_minor": 4
}
